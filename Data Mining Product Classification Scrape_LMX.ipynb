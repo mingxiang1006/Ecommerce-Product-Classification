{
 "cells": [
  {
   "cell_type": "markdown",
   "metadata": {
    "toc": true
   },
   "source": [
    "<h1>Table of Contents<span class=\"tocSkip\"></span></h1>\n",
    "<div class=\"toc\"><ul class=\"toc-item\"></ul></div>"
   ]
  },
  {
   "cell_type": "code",
   "execution_count": 2,
   "metadata": {
    "ExecuteTime": {
     "end_time": "2020-12-25T10:04:05.588659Z",
     "start_time": "2020-12-25T10:04:05.417699Z"
    }
   },
   "outputs": [],
   "source": [
    "from selenium import webdriver\n",
    "from selenium.webdriver.support.ui import WebDriverWait\n",
    "from selenium.webdriver.common.by import By\n",
    "from selenium.webdriver.support import expected_conditions as EC\n",
    "import time\n",
    "import pandas as pd\n",
    "import numpy as np\n",
    "import httpx\n",
    "from datetime import datetime"
   ]
  },
  {
   "cell_type": "code",
   "execution_count": 15,
   "metadata": {
    "ExecuteTime": {
     "end_time": "2020-12-25T10:32:20.777133Z",
     "start_time": "2020-12-25T10:31:54.169831Z"
    }
   },
   "outputs": [
    {
     "name": "stdout",
     "output_type": "stream",
     "text": [
      "Enter your scrape target url: https://shopee.com.my/tesco.fbs?page=2&shopCollection=21430950&sortBy=pop\n",
      "Enter your file name: Kitchen_Dining_Scraped\n"
     ]
    }
   ],
   "source": [
    "# change driver path to your own chrome driver poth\n",
    "driver_path = r'C:\\Users\\MLee27\\Library\\chromedriver_win32\\chromedriver.exe'\n",
    "\n",
    "output = pd.DataFrame(columns=['Index','Shop_Name', 'Prod_Name', 'Currency', 'Price', 'Price_Ori', 'Discount_Rate', 'Unit_Sold',\n",
    "                               'Product_Description', 'Average_Rating', 'Product_Brand', 'Product_Category', 'URL'])\n",
    "\n",
    "# paste the url that you wish to scrape\n",
    "url_input = input('Enter your scrape target url: ')\n",
    "\n",
    "# key in the name that you want to use for the output csv\n",
    "file_name = input('Enter your file name: ')"
   ]
  },
  {
   "cell_type": "code",
   "execution_count": 16,
   "metadata": {
    "ExecuteTime": {
     "end_time": "2020-12-25T10:32:48.092592Z",
     "start_time": "2020-12-25T10:32:21.529333Z"
    }
   },
   "outputs": [
    {
     "name": "stdout",
     "output_type": "stream",
     "text": [
      "--- 26.533343076705933 seconds ---\n"
     ]
    }
   ],
   "source": [
    "start_time = time.time()\n",
    "\n",
    "\n",
    "driver = webdriver.Chrome(executable_path = driver_path)\n",
    "    \n",
    "all_urls = []\n",
    "\n",
    "for page in range(1):\n",
    "        \n",
    "    driver.get(url_input)\n",
    "\n",
    "    if page == 0:\n",
    "        WebDriverWait(driver,5).until(EC.element_to_be_clickable((By.XPATH,'//div[@class=\"language-selection__list-item\"]/button'))).click()\n",
    "    else:\n",
    "        WebDriverWait(driver,5)\n",
    "    time.sleep(3)\n",
    "\n",
    "    for x in range(10):\n",
    "        driver.execute_script(\"window.scrollBy(0,300)\")\n",
    "        time.sleep(0.1)\n",
    "\n",
    "    all_items = driver.find_elements_by_xpath('//a[@data-sqe=\"link\"]')\n",
    "\n",
    "    for item in all_items:\n",
    "        url = item.get_attribute('href')\n",
    "        all_urls.append(url)\n",
    "\n",
    "driver.quit()\n",
    "\n",
    "index = 0\n",
    "\n",
    "for url in all_urls:\n",
    "    ids = url.split('-i.')[1].split('.')\n",
    "    shop_id = ids[0]\n",
    "    prod_id = ids[1]\n",
    "\n",
    "    shop_api = 'https://shopee.com.my/api/v2/shop/get?is_brief=1&shopid=' + str(shop_id)\n",
    "    shop_name = httpx.get(shop_api).json().get('data')['name']\n",
    "\n",
    "    item_api = 'https://shopee.com.my/api/v2/item/get?itemid=' +str(prod_id) + '&shopid=' + str(shop_id)\n",
    "    item_detail = httpx.get(item_api).json().get('item')\n",
    "    price = item_detail['price_min']/100000\n",
    "    price_before_discount = item_detail['price_min_before_discount']/100000\n",
    "    discount_rate = item_detail['discount']\n",
    "    prod_brand = item_detail['brand']\n",
    "    prod_categories = item_detail['categories'][0]['display_name']\n",
    "    currency = item_detail['currency']\n",
    "    unit_sold = item_detail['historical_sold']\n",
    "    prod_name = item_detail['name']\n",
    "    prod_desc = item_detail['description'].replace('\\n',' ').replace('  ',' ')\n",
    "    average_rating = item_detail['item_rating']['rating_star']\n",
    "    \n",
    "    output = output.append([{'Index':index, 'Shop_Name':shop_name, 'Prod_Name':prod_name, 'Currency':currency, 'Price':price,\n",
    "                             'Price_Ori':price_before_discount, 'Discount_Rate':discount_rate, 'Unit_Sold':unit_sold,\n",
    "                             'Product_Description':prod_desc, 'Average_Rating':average_rating, 'Product_Brand':prod_brand,\n",
    "                             'Product_Category':prod_categories, 'URL':url}],sort=False)\n",
    "    \n",
    "    index += 1\n",
    "    \n",
    "output = output.set_index(['Index'])\n",
    "output.to_csv('ShopeeScrape_' + str(file_name) + '_' + str(datetime.now().strftime('%Y%m%d_%H%M%S')) + '.csv')\n",
    "        \n",
    "print(\"--- %s seconds ---\" % (time.time() - start_time))"
   ]
  },
  {
   "cell_type": "code",
   "execution_count": null,
   "metadata": {},
   "outputs": [],
   "source": []
  }
 ],
 "metadata": {
  "hide_input": false,
  "kernelspec": {
   "display_name": "Python 3",
   "language": "python",
   "name": "python3"
  },
  "toc": {
   "base_numbering": 1,
   "nav_menu": {},
   "number_sections": true,
   "sideBar": true,
   "skip_h1_title": false,
   "title_cell": "Table of Contents",
   "title_sidebar": "Contents",
   "toc_cell": true,
   "toc_position": {},
   "toc_section_display": true,
   "toc_window_display": false
  },
  "varInspector": {
   "cols": {
    "lenName": 16,
    "lenType": 16,
    "lenVar": 40
   },
   "kernels_config": {
    "python": {
     "delete_cmd_postfix": "",
     "delete_cmd_prefix": "del ",
     "library": "var_list.py",
     "varRefreshCmd": "print(var_dic_list())"
    },
    "r": {
     "delete_cmd_postfix": ") ",
     "delete_cmd_prefix": "rm(",
     "library": "var_list.r",
     "varRefreshCmd": "cat(var_dic_list()) "
    }
   },
   "types_to_exclude": [
    "module",
    "function",
    "builtin_function_or_method",
    "instance",
    "_Feature"
   ],
   "window_display": false
  }
 },
 "nbformat": 4,
 "nbformat_minor": 4
}
